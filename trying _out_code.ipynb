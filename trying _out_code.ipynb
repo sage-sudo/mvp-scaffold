{
 "cells": [
  {
   "cell_type": "markdown",
   "id": "c841b130",
   "metadata": {},
   "source": [
    "# Imports"
   ]
  },
  {
   "cell_type": "code",
   "execution_count": 4,
   "id": "8586342b",
   "metadata": {},
   "outputs": [],
   "source": [
    "import sys\n",
    "import os\n",
    "#sys.path.append(os.path.dirname(os.path.abspath(__file__)))\n",
    "\n",
    "import pandas as pd\n",
    "import duckdb"
   ]
  },
  {
   "cell_type": "code",
   "execution_count": 5,
   "id": "6c907b26",
   "metadata": {},
   "outputs": [],
   "source": [
    "#print(sys.path)"
   ]
  },
  {
   "cell_type": "markdown",
   "id": "3cb96f00",
   "metadata": {},
   "source": [
    "____"
   ]
  },
  {
   "cell_type": "markdown",
   "id": "ae573f25",
   "metadata": {},
   "source": [
    "___"
   ]
  },
  {
   "cell_type": "markdown",
   "id": "b1cb015b",
   "metadata": {},
   "source": [
    "# Read From duckbd"
   ]
  },
  {
   "cell_type": "code",
   "execution_count": 7,
   "id": "26412032",
   "metadata": {},
   "outputs": [],
   "source": [
    "con = duckdb.connect(\"data/test_testdb_5_min.duckdb\", read_only=True)\n",
    "#print(con.execute(\"SELECT * FROM candles ORDER BY timestamp DESC LIMIT 5\").fetchall())\n",
    "query = \"\"\"SELECT * \n",
    "           FROM candles\n",
    "        \"\"\"\n",
    "query_results = con.execute(query).fetchall()"
   ]
  },
  {
   "cell_type": "code",
   "execution_count": null,
   "id": "cecd4f64",
   "metadata": {},
   "outputs": [],
   "source": []
  },
  {
   "cell_type": "code",
   "execution_count": 8,
   "id": "0d478e47",
   "metadata": {},
   "outputs": [
    {
     "name": "stdout",
     "output_type": "stream",
     "text": [
      "[(datetime.datetime(2025, 5, 18, 13, 45), 103901.6, 103901.6, 103838.7, 103844.0, 18.99174218), (datetime.datetime(2025, 5, 18, 13, 50), 103832.7, 103834.8, 103818.1, 103821.0, 0.3781236), (datetime.datetime(2025, 5, 18, 13, 55), 103821.0, 103821.1, 103818.0, 103821.1, 3.03764702), (datetime.datetime(2025, 5, 18, 14, 0), 103821.1, 103821.1, 103809.0, 103811.0, 0.26115685), (datetime.datetime(2025, 5, 18, 14, 5), 103811.0, 103811.0, 103800.6, 103800.6, 0.01958802), (datetime.datetime(2025, 5, 18, 14, 10), 103800.6, 103800.6, 103778.5, 103778.5, 0.06754324), (datetime.datetime(2025, 5, 18, 14, 15), 103778.6, 103778.6, 103778.5, 103778.6, 0.01457672), (datetime.datetime(2025, 5, 18, 14, 20), 103778.6, 103778.6, 103778.5, 103778.6, 0.03316182), (datetime.datetime(2025, 5, 18, 14, 25), 103778.6, 103810.9, 103778.5, 103810.9, 0.21634397), (datetime.datetime(2025, 5, 18, 14, 30), 103810.9, 103810.9, 103810.9, 103810.9, 0.00017988), (datetime.datetime(2025, 5, 18, 14, 35), 103884.0, 103884.2, 103883.9, 103884.2, 0.00765872)]\n"
     ]
    }
   ],
   "source": [
    "print(query_results)"
   ]
  },
  {
   "cell_type": "code",
   "execution_count": 9,
   "id": "454900c3",
   "metadata": {},
   "outputs": [],
   "source": [
    "con.close()"
   ]
  },
  {
   "cell_type": "markdown",
   "id": "20130965",
   "metadata": {},
   "source": [
    "___"
   ]
  },
  {
   "cell_type": "markdown",
   "id": "5facc138",
   "metadata": {},
   "source": [
    "# Pipe the results to a Pandas Dataframe"
   ]
  },
  {
   "cell_type": "code",
   "execution_count": 10,
   "id": "56e34456",
   "metadata": {},
   "outputs": [],
   "source": [
    "df = pd.DataFrame(query_results)"
   ]
  },
  {
   "cell_type": "code",
   "execution_count": 11,
   "id": "24474ce5",
   "metadata": {},
   "outputs": [],
   "source": [
    "df.columns = ['Datetime', 'Open', 'High', 'Low', 'Close', 'Volume']"
   ]
  },
  {
   "cell_type": "code",
   "execution_count": 12,
   "id": "fe275ef5",
   "metadata": {},
   "outputs": [
    {
     "data": {
      "text/html": [
       "<div>\n",
       "<style scoped>\n",
       "    .dataframe tbody tr th:only-of-type {\n",
       "        vertical-align: middle;\n",
       "    }\n",
       "\n",
       "    .dataframe tbody tr th {\n",
       "        vertical-align: top;\n",
       "    }\n",
       "\n",
       "    .dataframe thead th {\n",
       "        text-align: right;\n",
       "    }\n",
       "</style>\n",
       "<table border=\"1\" class=\"dataframe\">\n",
       "  <thead>\n",
       "    <tr style=\"text-align: right;\">\n",
       "      <th></th>\n",
       "      <th>Datetime</th>\n",
       "      <th>Open</th>\n",
       "      <th>High</th>\n",
       "      <th>Low</th>\n",
       "      <th>Close</th>\n",
       "      <th>Volume</th>\n",
       "    </tr>\n",
       "  </thead>\n",
       "  <tbody>\n",
       "    <tr>\n",
       "      <th>0</th>\n",
       "      <td>2025-05-18 13:45:00</td>\n",
       "      <td>103901.6</td>\n",
       "      <td>103901.6</td>\n",
       "      <td>103838.7</td>\n",
       "      <td>103844.0</td>\n",
       "      <td>18.991742</td>\n",
       "    </tr>\n",
       "    <tr>\n",
       "      <th>1</th>\n",
       "      <td>2025-05-18 13:50:00</td>\n",
       "      <td>103832.7</td>\n",
       "      <td>103834.8</td>\n",
       "      <td>103818.1</td>\n",
       "      <td>103821.0</td>\n",
       "      <td>0.378124</td>\n",
       "    </tr>\n",
       "    <tr>\n",
       "      <th>2</th>\n",
       "      <td>2025-05-18 13:55:00</td>\n",
       "      <td>103821.0</td>\n",
       "      <td>103821.1</td>\n",
       "      <td>103818.0</td>\n",
       "      <td>103821.1</td>\n",
       "      <td>3.037647</td>\n",
       "    </tr>\n",
       "    <tr>\n",
       "      <th>3</th>\n",
       "      <td>2025-05-18 14:00:00</td>\n",
       "      <td>103821.1</td>\n",
       "      <td>103821.1</td>\n",
       "      <td>103809.0</td>\n",
       "      <td>103811.0</td>\n",
       "      <td>0.261157</td>\n",
       "    </tr>\n",
       "    <tr>\n",
       "      <th>4</th>\n",
       "      <td>2025-05-18 14:05:00</td>\n",
       "      <td>103811.0</td>\n",
       "      <td>103811.0</td>\n",
       "      <td>103800.6</td>\n",
       "      <td>103800.6</td>\n",
       "      <td>0.019588</td>\n",
       "    </tr>\n",
       "    <tr>\n",
       "      <th>5</th>\n",
       "      <td>2025-05-18 14:10:00</td>\n",
       "      <td>103800.6</td>\n",
       "      <td>103800.6</td>\n",
       "      <td>103778.5</td>\n",
       "      <td>103778.5</td>\n",
       "      <td>0.067543</td>\n",
       "    </tr>\n",
       "    <tr>\n",
       "      <th>6</th>\n",
       "      <td>2025-05-18 14:15:00</td>\n",
       "      <td>103778.6</td>\n",
       "      <td>103778.6</td>\n",
       "      <td>103778.5</td>\n",
       "      <td>103778.6</td>\n",
       "      <td>0.014577</td>\n",
       "    </tr>\n",
       "    <tr>\n",
       "      <th>7</th>\n",
       "      <td>2025-05-18 14:20:00</td>\n",
       "      <td>103778.6</td>\n",
       "      <td>103778.6</td>\n",
       "      <td>103778.5</td>\n",
       "      <td>103778.6</td>\n",
       "      <td>0.033162</td>\n",
       "    </tr>\n",
       "    <tr>\n",
       "      <th>8</th>\n",
       "      <td>2025-05-18 14:25:00</td>\n",
       "      <td>103778.6</td>\n",
       "      <td>103810.9</td>\n",
       "      <td>103778.5</td>\n",
       "      <td>103810.9</td>\n",
       "      <td>0.216344</td>\n",
       "    </tr>\n",
       "    <tr>\n",
       "      <th>9</th>\n",
       "      <td>2025-05-18 14:30:00</td>\n",
       "      <td>103810.9</td>\n",
       "      <td>103810.9</td>\n",
       "      <td>103810.9</td>\n",
       "      <td>103810.9</td>\n",
       "      <td>0.000180</td>\n",
       "    </tr>\n",
       "    <tr>\n",
       "      <th>10</th>\n",
       "      <td>2025-05-18 14:35:00</td>\n",
       "      <td>103884.0</td>\n",
       "      <td>103884.2</td>\n",
       "      <td>103883.9</td>\n",
       "      <td>103884.2</td>\n",
       "      <td>0.007659</td>\n",
       "    </tr>\n",
       "  </tbody>\n",
       "</table>\n",
       "</div>"
      ],
      "text/plain": [
       "              Datetime      Open      High       Low     Close     Volume\n",
       "0  2025-05-18 13:45:00  103901.6  103901.6  103838.7  103844.0  18.991742\n",
       "1  2025-05-18 13:50:00  103832.7  103834.8  103818.1  103821.0   0.378124\n",
       "2  2025-05-18 13:55:00  103821.0  103821.1  103818.0  103821.1   3.037647\n",
       "3  2025-05-18 14:00:00  103821.1  103821.1  103809.0  103811.0   0.261157\n",
       "4  2025-05-18 14:05:00  103811.0  103811.0  103800.6  103800.6   0.019588\n",
       "5  2025-05-18 14:10:00  103800.6  103800.6  103778.5  103778.5   0.067543\n",
       "6  2025-05-18 14:15:00  103778.6  103778.6  103778.5  103778.6   0.014577\n",
       "7  2025-05-18 14:20:00  103778.6  103778.6  103778.5  103778.6   0.033162\n",
       "8  2025-05-18 14:25:00  103778.6  103810.9  103778.5  103810.9   0.216344\n",
       "9  2025-05-18 14:30:00  103810.9  103810.9  103810.9  103810.9   0.000180\n",
       "10 2025-05-18 14:35:00  103884.0  103884.2  103883.9  103884.2   0.007659"
      ]
     },
     "execution_count": 12,
     "metadata": {},
     "output_type": "execute_result"
    }
   ],
   "source": [
    "df.tail(30)"
   ]
  },
  {
   "cell_type": "code",
   "execution_count": 13,
   "id": "196321b8",
   "metadata": {},
   "outputs": [
    {
     "data": {
      "text/plain": [
       "11"
      ]
     },
     "execution_count": 13,
     "metadata": {},
     "output_type": "execute_result"
    }
   ],
   "source": [
    "len(df)"
   ]
  },
  {
   "cell_type": "markdown",
   "id": "907f460a",
   "metadata": {},
   "source": [
    "____\n"
   ]
  },
  {
   "cell_type": "markdown",
   "id": "10a7514d",
   "metadata": {},
   "source": [
    "____"
   ]
  },
  {
   "cell_type": "markdown",
   "id": "32263ada",
   "metadata": {},
   "source": [
    "___"
   ]
  },
  {
   "cell_type": "code",
   "execution_count": null,
   "id": "6d60ff7e",
   "metadata": {},
   "outputs": [],
   "source": [
    "# strategy/ta.py\n",
    "import sys\n",
    "import os\n",
    "#sys.path.append(os.path.dirname(os.path.abspath(__file__)))\n",
    "\n",
    "import duckdb\n",
    "import pandas as pd\n",
    "import pandas_ta as ta\n",
    "from datetime import datetime, timedelta\n",
    "\n",
    "DB_PATH = \"data/market_data.duckdb\"\n",
    "\n",
    "def load_recent_candles(hours=200):\n",
    "    con = duckdb.connect(DB_PATH)\n",
    "    query = f\"\"\"\n",
    "            SELECT * \n",
    "            FROM candles\n",
    "            --WHERE timestamp >= NOW() - INTERVAL {hours} HOUR\n",
    "            ORDER BY timestamp ASC\n",
    "            \"\"\"\n",
    "    df = con.execute(query).fetchdf()\n",
    "    con.close()\n",
    "    return df\n",
    "\n",
    "\n",
    "def compute_indicators(df):\n",
    "    df.set_index('timestamp', inplace=True)\n",
    "\n",
    "    # Add 3 basic indicators\n",
    "    df['rsi'] = ta.rsi(df['close'], length=14)\n",
    "    df['ema_50'] = ta.ema(df['close'], length=50)\n",
    "    df['ema_200'] = ta.ema(df['close'], length=200)\n",
    "\n",
    "    return df\n",
    "\n",
    "def generate_signal(df):\n",
    "    latest = df.iloc[-1]\n",
    "\n",
    "    signal = \"hold\"\n",
    "    reason = \"\"\n",
    "\n",
    "    # Strategy logic\n",
    "    if latest['ema_50'] > latest['ema_200'] and latest['rsi'] < 30:\n",
    "        signal = \"buy\"\n",
    "        reason = \"Golden cross + RSI oversold\"\n",
    "    elif latest['ema_50'] < latest['ema_200'] and latest['rsi'] > 70:\n",
    "        signal = \"sell\"\n",
    "        reason = \"Death cross + RSI overbought\"\n",
    "\n",
    "    return signal, reason\n",
    "\n",
    "def get_ta_signal():\n",
    "    df = load_recent_candles()\n",
    "    df = compute_indicators(df)\n",
    "    signal, reason = generate_signal(df)\n",
    "    print(f\"TA Signal: {signal.upper()} | Reason: {reason}\")\n",
    "    return signal, reason\n"
   ]
  },
  {
   "cell_type": "code",
   "execution_count": null,
   "id": "292aaa95",
   "metadata": {},
   "outputs": [],
   "source": [
    "load_recent_candles()"
   ]
  },
  {
   "cell_type": "code",
   "execution_count": null,
   "id": "9b236b14",
   "metadata": {},
   "outputs": [],
   "source": [
    "# Define the checkmark symbol using Unicode\n",
    "checkmark = \"\\u2705\"\n",
    "\n",
    "# Display it to simulate a live conversion/output in a Python environment\n",
    "checkmark\n"
   ]
  },
  {
   "cell_type": "code",
   "execution_count": null,
   "id": "566b52ee",
   "metadata": {},
   "outputs": [],
   "source": []
  },
  {
   "cell_type": "code",
   "execution_count": null,
   "id": "91e4ac16",
   "metadata": {},
   "outputs": [],
   "source": []
  }
 ],
 "metadata": {
  "kernelspec": {
   "display_name": "Python 3",
   "language": "python",
   "name": "python3"
  },
  "language_info": {
   "codemirror_mode": {
    "name": "ipython",
    "version": 3
   },
   "file_extension": ".py",
   "mimetype": "text/x-python",
   "name": "python",
   "nbconvert_exporter": "python",
   "pygments_lexer": "ipython3",
   "version": "3.12.3"
  }
 },
 "nbformat": 4,
 "nbformat_minor": 5
}
