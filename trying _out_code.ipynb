{
 "cells": [
  {
   "cell_type": "markdown",
   "id": "c841b130",
   "metadata": {},
   "source": [
    "# Imports"
   ]
  },
  {
   "cell_type": "code",
   "execution_count": 21,
   "id": "8586342b",
   "metadata": {},
   "outputs": [],
   "source": [
    "import sys\n",
    "import os\n",
    "#sys.path.append(os.path.dirname(os.path.abspath(__file__)))\n",
    "\n",
    "import pandas as pd\n",
    "import duckdb"
   ]
  },
  {
   "cell_type": "code",
   "execution_count": 19,
   "id": "6c907b26",
   "metadata": {},
   "outputs": [],
   "source": [
    "#print(sys.path)"
   ]
  },
  {
   "cell_type": "markdown",
   "id": "3cb96f00",
   "metadata": {},
   "source": [
    "____"
   ]
  },
  {
   "cell_type": "markdown",
   "id": "ae573f25",
   "metadata": {},
   "source": [
    "___"
   ]
  },
  {
   "cell_type": "markdown",
   "id": "b1cb015b",
   "metadata": {},
   "source": [
    "# Read From duckbd"
   ]
  },
  {
   "cell_type": "code",
   "execution_count": null,
   "id": "26412032",
   "metadata": {},
   "outputs": [],
   "source": [
    "con = duckdb.connect(\"data/candles.duckdb\")\n",
    "#print(con.execute(\"SELECT * FROM candles ORDER BY timestamp DESC LIMIT 5\").fetchall())\n",
    "query = \"\"\"SELECT * \n",
    "           FROM candles\n",
    "        \"\"\"\n",
    "query_results = con.execute(query).fetchall()"
   ]
  },
  {
   "cell_type": "code",
   "execution_count": 14,
   "id": "0d478e47",
   "metadata": {},
   "outputs": [
    {
     "name": "stdout",
     "output_type": "stream",
     "text": [
      "[(datetime.datetime(2025, 5, 12, 10, 36, 55, 214398), 1747040400.0, 104460.0, 104507.4, 104117.0, 104316.2531), (datetime.datetime(2025, 5, 12, 10, 37, 14, 475778), 1747040400.0, 104460.0, 104507.4, 104117.0, 104316.25505), (datetime.datetime(2025, 5, 12, 10, 37, 16, 6897), 1747040400.0, 104460.0, 104507.4, 104117.0, 104317.21024), (datetime.datetime(2025, 5, 12, 10, 37, 19, 56725), 1747040400.0, 104460.0, 104507.4, 104117.0, 104317.893), (datetime.datetime(2025, 5, 12, 10, 37, 28, 111583), 1747040400.0, 104460.0, 104507.4, 104117.0, 104317.89343), (datetime.datetime(2025, 5, 12, 10, 37, 32, 821989), 1747040400.0, 104460.0, 104507.4, 104117.0, 104317.89613), (datetime.datetime(2025, 5, 12, 10, 37, 42, 10585), 1747040400.0, 104460.0, 104507.4, 104117.0, 104317.89641), (datetime.datetime(2025, 5, 12, 10, 37, 51, 671914), 1747040400.0, 104460.0, 104507.4, 104117.0, 104317.8979), (datetime.datetime(2025, 5, 12, 10, 37, 54, 956892), 1747040400.0, 104460.0, 104507.4, 104117.0, 104317.89804), (datetime.datetime(2025, 5, 12, 10, 37, 55, 221468), 1747040400.0, 104460.0, 104507.4, 104117.0, 104317.93433), (datetime.datetime(2025, 5, 12, 10, 38, 12, 852979), 1747040400.0, 104460.0, 104507.4, 104117.0, 104317.9344), (datetime.datetime(2025, 5, 12, 10, 38, 22, 532409), 1747040400.0, 104460.0, 104507.4, 104117.0, 104317.935), (datetime.datetime(2025, 5, 12, 10, 38, 24, 711003), 1747040400.0, 104460.0, 104507.4, 104117.0, 104317.93529), (datetime.datetime(2025, 5, 12, 10, 38, 31, 886178), 1747040400.0, 104460.0, 104507.4, 104117.0, 104317.93537)]\n"
     ]
    }
   ],
   "source": [
    "print(query_results)"
   ]
  },
  {
   "cell_type": "code",
   "execution_count": 1,
   "id": "454900c3",
   "metadata": {},
   "outputs": [
    {
     "ename": "NameError",
     "evalue": "name 'con' is not defined",
     "output_type": "error",
     "traceback": [
      "\u001b[31m---------------------------------------------------------------------------\u001b[39m",
      "\u001b[31mNameError\u001b[39m                                 Traceback (most recent call last)",
      "\u001b[36mCell\u001b[39m\u001b[36m \u001b[39m\u001b[32mIn[1]\u001b[39m\u001b[32m, line 1\u001b[39m\n\u001b[32m----> \u001b[39m\u001b[32m1\u001b[39m \u001b[43mcon\u001b[49m.close()\n",
      "\u001b[31mNameError\u001b[39m: name 'con' is not defined"
     ]
    }
   ],
   "source": [
    "con.close()"
   ]
  },
  {
   "cell_type": "markdown",
   "id": "20130965",
   "metadata": {},
   "source": [
    "___"
   ]
  },
  {
   "cell_type": "markdown",
   "id": "5facc138",
   "metadata": {},
   "source": [
    "# Pipe the results to a Pandas Dataframe"
   ]
  },
  {
   "cell_type": "code",
   "execution_count": 15,
   "id": "56e34456",
   "metadata": {},
   "outputs": [],
   "source": [
    "df = pd.DataFrame(query_results)"
   ]
  },
  {
   "cell_type": "code",
   "execution_count": 17,
   "id": "24474ce5",
   "metadata": {},
   "outputs": [],
   "source": [
    "df.columns = ['Datetime', 'Open', 'High', 'Low', 'Close', 'Volume']"
   ]
  },
  {
   "cell_type": "code",
   "execution_count": 20,
   "id": "fe275ef5",
   "metadata": {},
   "outputs": [
    {
     "data": {
      "text/html": [
       "<div>\n",
       "<style scoped>\n",
       "    .dataframe tbody tr th:only-of-type {\n",
       "        vertical-align: middle;\n",
       "    }\n",
       "\n",
       "    .dataframe tbody tr th {\n",
       "        vertical-align: top;\n",
       "    }\n",
       "\n",
       "    .dataframe thead th {\n",
       "        text-align: right;\n",
       "    }\n",
       "</style>\n",
       "<table border=\"1\" class=\"dataframe\">\n",
       "  <thead>\n",
       "    <tr style=\"text-align: right;\">\n",
       "      <th></th>\n",
       "      <th>Datetime</th>\n",
       "      <th>Open</th>\n",
       "      <th>High</th>\n",
       "      <th>Low</th>\n",
       "      <th>Close</th>\n",
       "      <th>Volume</th>\n",
       "    </tr>\n",
       "  </thead>\n",
       "  <tbody>\n",
       "    <tr>\n",
       "      <th>0</th>\n",
       "      <td>2025-05-12 10:36:55.214398</td>\n",
       "      <td>1.747040e+09</td>\n",
       "      <td>104460.0</td>\n",
       "      <td>104507.4</td>\n",
       "      <td>104117.0</td>\n",
       "      <td>104316.25310</td>\n",
       "    </tr>\n",
       "    <tr>\n",
       "      <th>1</th>\n",
       "      <td>2025-05-12 10:37:14.475778</td>\n",
       "      <td>1.747040e+09</td>\n",
       "      <td>104460.0</td>\n",
       "      <td>104507.4</td>\n",
       "      <td>104117.0</td>\n",
       "      <td>104316.25505</td>\n",
       "    </tr>\n",
       "    <tr>\n",
       "      <th>2</th>\n",
       "      <td>2025-05-12 10:37:16.006897</td>\n",
       "      <td>1.747040e+09</td>\n",
       "      <td>104460.0</td>\n",
       "      <td>104507.4</td>\n",
       "      <td>104117.0</td>\n",
       "      <td>104317.21024</td>\n",
       "    </tr>\n",
       "    <tr>\n",
       "      <th>3</th>\n",
       "      <td>2025-05-12 10:37:19.056725</td>\n",
       "      <td>1.747040e+09</td>\n",
       "      <td>104460.0</td>\n",
       "      <td>104507.4</td>\n",
       "      <td>104117.0</td>\n",
       "      <td>104317.89300</td>\n",
       "    </tr>\n",
       "    <tr>\n",
       "      <th>4</th>\n",
       "      <td>2025-05-12 10:37:28.111583</td>\n",
       "      <td>1.747040e+09</td>\n",
       "      <td>104460.0</td>\n",
       "      <td>104507.4</td>\n",
       "      <td>104117.0</td>\n",
       "      <td>104317.89343</td>\n",
       "    </tr>\n",
       "  </tbody>\n",
       "</table>\n",
       "</div>"
      ],
      "text/plain": [
       "                    Datetime          Open      High       Low     Close  \\\n",
       "0 2025-05-12 10:36:55.214398  1.747040e+09  104460.0  104507.4  104117.0   \n",
       "1 2025-05-12 10:37:14.475778  1.747040e+09  104460.0  104507.4  104117.0   \n",
       "2 2025-05-12 10:37:16.006897  1.747040e+09  104460.0  104507.4  104117.0   \n",
       "3 2025-05-12 10:37:19.056725  1.747040e+09  104460.0  104507.4  104117.0   \n",
       "4 2025-05-12 10:37:28.111583  1.747040e+09  104460.0  104507.4  104117.0   \n",
       "\n",
       "         Volume  \n",
       "0  104316.25310  \n",
       "1  104316.25505  \n",
       "2  104317.21024  \n",
       "3  104317.89300  \n",
       "4  104317.89343  "
      ]
     },
     "execution_count": 20,
     "metadata": {},
     "output_type": "execute_result"
    }
   ],
   "source": [
    "df.head()"
   ]
  },
  {
   "cell_type": "markdown",
   "id": "907f460a",
   "metadata": {},
   "source": [
    "____\n"
   ]
  },
  {
   "cell_type": "markdown",
   "id": "10a7514d",
   "metadata": {},
   "source": [
    "____"
   ]
  },
  {
   "cell_type": "code",
   "execution_count": null,
   "id": "6d60ff7e",
   "metadata": {},
   "outputs": [],
   "source": []
  }
 ],
 "metadata": {
  "kernelspec": {
   "display_name": "Python (mvpenv)",
   "language": "python",
   "name": "mvpenv"
  },
  "language_info": {
   "codemirror_mode": {
    "name": "ipython",
    "version": 3
   },
   "file_extension": ".py",
   "mimetype": "text/x-python",
   "name": "python",
   "nbconvert_exporter": "python",
   "pygments_lexer": "ipython3",
   "version": "3.11.7"
  }
 },
 "nbformat": 4,
 "nbformat_minor": 5
}
