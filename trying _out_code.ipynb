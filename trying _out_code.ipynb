{
 "cells": [
  {
   "cell_type": "markdown",
   "id": "c841b130",
   "metadata": {},
   "source": [
    "# Imports"
   ]
  },
  {
   "cell_type": "code",
   "execution_count": null,
   "id": "8586342b",
   "metadata": {},
   "outputs": [],
   "source": [
    "import sys\n",
    "import os\n",
    "#sys.path.append(os.path.dirname(os.path.abspath(__file__)))\n",
    "\n",
    "import pandas as pd\n",
    "import duckdb"
   ]
  },
  {
   "cell_type": "code",
   "execution_count": null,
   "id": "6c907b26",
   "metadata": {},
   "outputs": [],
   "source": [
    "#print(sys.path)"
   ]
  },
  {
   "cell_type": "markdown",
   "id": "3cb96f00",
   "metadata": {},
   "source": [
    "____"
   ]
  },
  {
   "cell_type": "markdown",
   "id": "ae573f25",
   "metadata": {},
   "source": [
    "___"
   ]
  },
  {
   "cell_type": "markdown",
   "id": "b1cb015b",
   "metadata": {},
   "source": [
    "# Read From duckbd"
   ]
  },
  {
   "cell_type": "code",
   "execution_count": null,
   "id": "26412032",
   "metadata": {},
   "outputs": [],
   "source": [
    "con = duckdb.connect(\"data/market_data.duckdb\")\n",
    "#print(con.execute(\"SELECT * FROM candles ORDER BY timestamp DESC LIMIT 5\").fetchall())\n",
    "query = \"\"\"SELECT * \n",
    "           FROM candles\n",
    "        \"\"\"\n",
    "query_results = con.execute(query).fetchall()"
   ]
  },
  {
   "cell_type": "code",
   "execution_count": null,
   "id": "0d478e47",
   "metadata": {},
   "outputs": [],
   "source": [
    "print(query_results)"
   ]
  },
  {
   "cell_type": "code",
   "execution_count": null,
   "id": "454900c3",
   "metadata": {},
   "outputs": [],
   "source": [
    "con.close()"
   ]
  },
  {
   "cell_type": "markdown",
   "id": "20130965",
   "metadata": {},
   "source": [
    "___"
   ]
  },
  {
   "cell_type": "markdown",
   "id": "5facc138",
   "metadata": {},
   "source": [
    "# Pipe the results to a Pandas Dataframe"
   ]
  },
  {
   "cell_type": "code",
   "execution_count": null,
   "id": "56e34456",
   "metadata": {},
   "outputs": [],
   "source": [
    "df = pd.DataFrame(query_results)"
   ]
  },
  {
   "cell_type": "code",
   "execution_count": null,
   "id": "24474ce5",
   "metadata": {},
   "outputs": [],
   "source": [
    "df.columns = ['Datetime', 'Open', 'High', 'Low', 'Close', 'Volume']"
   ]
  },
  {
   "cell_type": "code",
   "execution_count": null,
   "id": "fe275ef5",
   "metadata": {},
   "outputs": [],
   "source": [
    "df.tail(30)"
   ]
  },
  {
   "cell_type": "code",
   "execution_count": null,
   "id": "196321b8",
   "metadata": {},
   "outputs": [],
   "source": [
    "len(df)"
   ]
  },
  {
   "cell_type": "markdown",
   "id": "907f460a",
   "metadata": {},
   "source": [
    "____\n"
   ]
  },
  {
   "cell_type": "markdown",
   "id": "10a7514d",
   "metadata": {},
   "source": [
    "____"
   ]
  },
  {
   "cell_type": "code",
   "execution_count": null,
   "id": "6d60ff7e",
   "metadata": {},
   "outputs": [],
   "source": [
    "# strategy/ta.py\n",
    "import sys\n",
    "import os\n",
    "#sys.path.append(os.path.dirname(os.path.abspath(__file__)))\n",
    "import sys\n",
    "sys.path.append(r'C:\\Users\\trrallele\\Momentum Metropolitan\\REALEARN\\MVP Scaffold\\mvpenv\\Lib\\site-packages')\n",
    "\n",
    "\n",
    "import duckdb\n",
    "import pandas as pd\n",
    "import pandas_ta as ta\n",
    "from datetime import datetime, timedelta\n",
    "\n",
    "DB_PATH = \"data/candles.duckdb\"\n",
    "\n",
    "def load_recent_candles(hours=200):\n",
    "    con = duckdb.connect(DB_PATH)\n",
    "    query = f\"\"\"\n",
    "    SELECT * FROM candles\n",
    "    WHERE timestamp >= NOW() - INTERVAL {hours} HOUR\n",
    "    ORDER BY timestamp ASC\n",
    "    \"\"\"\n",
    "    df = con.execute(query).fetchdf()\n",
    "    con.close()\n",
    "    return df\n",
    "\n",
    "def compute_indicators(df):\n",
    "    df.set_index('timestamp', inplace=True)\n",
    "\n",
    "    # Add 3 basic indicators\n",
    "    df['rsi'] = ta.rsi(df['close'], length=14)\n",
    "    df['ema_50'] = ta.ema(df['close'], length=50)\n",
    "    df['ema_200'] = ta.ema(df['close'], length=200)\n",
    "\n",
    "    return df\n",
    "\n",
    "def generate_signal(df):\n",
    "    latest = df.iloc[-1]\n",
    "\n",
    "    signal = \"hold\"\n",
    "    reason = \"\"\n",
    "\n",
    "    # Strategy logic\n",
    "    if latest['ema_50'] > latest['ema_200'] and latest['rsi'] < 30:\n",
    "        signal = \"buy\"\n",
    "        reason = \"Golden cross + RSI oversold\"\n",
    "    elif latest['ema_50'] < latest['ema_200'] and latest['rsi'] > 70:\n",
    "        signal = \"sell\"\n",
    "        reason = \"Death cross + RSI overbought\"\n",
    "\n",
    "    return signal, reason\n",
    "\n",
    "def get_ta_signal():\n",
    "    df = load_recent_candles()\n",
    "    df = compute_indicators(df)\n",
    "    signal, reason = generate_signal(df)\n",
    "    print(f\"TA Signal: {signal.upper()} | Reason: {reason}\")\n",
    "    return signal, reason\n"
   ]
  },
  {
   "cell_type": "code",
   "execution_count": null,
   "id": "292aaa95",
   "metadata": {},
   "outputs": [],
   "source": [
    "get_ta_signal()"
   ]
  },
  {
   "cell_type": "code",
   "execution_count": null,
   "id": "9b236b14",
   "metadata": {},
   "outputs": [],
   "source": []
  }
 ],
 "metadata": {
  "kernelspec": {
   "display_name": "Python 3",
   "language": "python",
   "name": "python3"
  },
  "language_info": {
   "codemirror_mode": {
    "name": "ipython",
    "version": 3
   },
   "file_extension": ".py",
   "mimetype": "text/x-python",
   "name": "python",
   "nbconvert_exporter": "python",
   "pygments_lexer": "ipython3",
   "version": "3.12.3"
  }
 },
 "nbformat": 4,
 "nbformat_minor": 5
}
