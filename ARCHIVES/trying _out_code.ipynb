{
 "cells": [
  {
   "cell_type": "markdown",
   "id": "c841b130",
   "metadata": {},
   "source": [
    "# Imports"
   ]
  },
  {
   "cell_type": "code",
   "execution_count": 1,
   "id": "8586342b",
   "metadata": {},
   "outputs": [],
   "source": [
    "import sys\n",
    "import os\n",
    "#sys.path.append(os.path.dirname(os.path.abspath(__file__)))\n",
    "\n",
    "import pandas as pd\n",
    "import duckdb\n",
    "\n",
    "import asyncio"
   ]
  },
  {
   "cell_type": "code",
   "execution_count": 2,
   "id": "6c907b26",
   "metadata": {},
   "outputs": [],
   "source": [
    "#print(sys.path)"
   ]
  },
  {
   "cell_type": "markdown",
   "id": "3cb96f00",
   "metadata": {},
   "source": [
    "____"
   ]
  },
  {
   "cell_type": "markdown",
   "id": "ae573f25",
   "metadata": {},
   "source": [
    "___"
   ]
  },
  {
   "cell_type": "code",
   "execution_count": 3,
   "id": "3628d849",
   "metadata": {},
   "outputs": [],
   "source": [
    "filename = \"data/your_path_here.duckdb\""
   ]
  },
  {
   "cell_type": "markdown",
   "id": "b1cb015b",
   "metadata": {},
   "source": [
    "# Read From duckbd"
   ]
  },
  {
   "cell_type": "code",
   "execution_count": 4,
   "id": "d74a3dbb",
   "metadata": {},
   "outputs": [],
   "source": [
    "async def call_db(filename):\n",
    "    conn = duckdb.connect(filename, read_only=True)\n",
    "    query = \"\"\"SELECT * \n",
    "           FROM candles\n",
    "        \"\"\"\n",
    "    query_results = conn.execute(query).fetchall()\n",
    "\n",
    "    conn.close()\n",
    "\n",
    "    return query_results\n",
    "\n",
    "\n"
   ]
  },
  {
   "cell_type": "code",
   "execution_count": 5,
   "id": "0814d214",
   "metadata": {},
   "outputs": [
    {
     "ename": "IOException",
     "evalue": "IO Error: File is already open in \nC:\\Users\\trrallele\\AppData\\Local\\anaconda3\\python.exe (PID 27556)",
     "output_type": "error",
     "traceback": [
      "\u001b[1;31m---------------------------------------------------------------------------\u001b[0m",
      "\u001b[1;31mIOException\u001b[0m                               Traceback (most recent call last)",
      "Cell \u001b[1;32mIn[5], line 1\u001b[0m\n\u001b[1;32m----> 1\u001b[0m query_data \u001b[38;5;241m=\u001b[39m \u001b[38;5;28;01mawait\u001b[39;00m call_db(filename)  \u001b[38;5;66;03m# ✅ If already in an async function\u001b[39;00m\n",
      "Cell \u001b[1;32mIn[4], line 2\u001b[0m, in \u001b[0;36mcall_db\u001b[1;34m(filename)\u001b[0m\n\u001b[0;32m      1\u001b[0m \u001b[38;5;28;01masync\u001b[39;00m \u001b[38;5;28;01mdef\u001b[39;00m \u001b[38;5;21mcall_db\u001b[39m(filename):\n\u001b[1;32m----> 2\u001b[0m     conn \u001b[38;5;241m=\u001b[39m \u001b[43mduckdb\u001b[49m\u001b[38;5;241;43m.\u001b[39;49m\u001b[43mconnect\u001b[49m\u001b[43m(\u001b[49m\u001b[43mfilename\u001b[49m\u001b[43m,\u001b[49m\u001b[43m \u001b[49m\u001b[43mread_only\u001b[49m\u001b[38;5;241;43m=\u001b[39;49m\u001b[38;5;28;43;01mTrue\u001b[39;49;00m\u001b[43m)\u001b[49m\n\u001b[0;32m      3\u001b[0m     query \u001b[38;5;241m=\u001b[39m \u001b[38;5;124m\"\"\"\u001b[39m\u001b[38;5;124mSELECT * \u001b[39m\n\u001b[0;32m      4\u001b[0m \u001b[38;5;124m           FROM candles\u001b[39m\n\u001b[0;32m      5\u001b[0m \u001b[38;5;124m        \u001b[39m\u001b[38;5;124m\"\"\"\u001b[39m\n\u001b[0;32m      6\u001b[0m     query_results \u001b[38;5;241m=\u001b[39m conn\u001b[38;5;241m.\u001b[39mexecute(query)\u001b[38;5;241m.\u001b[39mfetchall()\n",
      "\u001b[1;31mIOException\u001b[0m: IO Error: File is already open in \nC:\\Users\\trrallele\\AppData\\Local\\anaconda3\\python.exe (PID 27556)"
     ]
    }
   ],
   "source": [
    "query_data = await call_db(filename)  # ✅ If already in an async function\n"
   ]
  },
  {
   "cell_type": "code",
   "execution_count": null,
   "id": "ee222855",
   "metadata": {},
   "outputs": [],
   "source": [
    "#loop = asyncio.get_event_loop()\n",
    "#query_data = loop.create_task(call_db(filename))  # ✅ Fire and forget\n"
   ]
  },
  {
   "cell_type": "code",
   "execution_count": null,
   "id": "beb6538c",
   "metadata": {},
   "outputs": [],
   "source": [
    "#query_data = call_db(filename)"
   ]
  },
  {
   "cell_type": "code",
   "execution_count": null,
   "id": "89afd81a",
   "metadata": {},
   "outputs": [],
   "source": [
    "print(query_data)"
   ]
  },
  {
   "cell_type": "code",
   "execution_count": null,
   "id": "26412032",
   "metadata": {},
   "outputs": [],
   "source": [
    "#con = duckdb.connect(filename, read_only=True)\n",
    "#print(con.execute(\"SELECT * FROM candles ORDER BY timestamp DESC LIMIT 5\").fetchall())\n",
    "#query = \"\"\"SELECT * \n",
    "#           FROM candles\n",
    "#        \"\"\"\n",
    "#query_results = con.execute(query).fetchall()\n",
    "\n",
    "#con.close()"
   ]
  },
  {
   "cell_type": "code",
   "execution_count": null,
   "id": "cecd4f64",
   "metadata": {},
   "outputs": [],
   "source": []
  },
  {
   "cell_type": "code",
   "execution_count": null,
   "id": "454900c3",
   "metadata": {},
   "outputs": [],
   "source": []
  },
  {
   "cell_type": "markdown",
   "id": "20130965",
   "metadata": {},
   "source": [
    "___"
   ]
  },
  {
   "cell_type": "markdown",
   "id": "5facc138",
   "metadata": {},
   "source": [
    "# Pipe the results to a Pandas Dataframe"
   ]
  },
  {
   "cell_type": "code",
   "execution_count": null,
   "id": "56e34456",
   "metadata": {},
   "outputs": [],
   "source": [
    "df = pd.DataFrame(query_data)"
   ]
  },
  {
   "cell_type": "code",
   "execution_count": null,
   "id": "24474ce5",
   "metadata": {},
   "outputs": [],
   "source": [
    "df.columns = ['Datetime', 'Open', 'High', 'Low', 'Close', 'Volume']"
   ]
  },
  {
   "cell_type": "code",
   "execution_count": null,
   "id": "fe275ef5",
   "metadata": {},
   "outputs": [],
   "source": [
    "df.tail(30)"
   ]
  },
  {
   "cell_type": "code",
   "execution_count": null,
   "id": "196321b8",
   "metadata": {},
   "outputs": [],
   "source": [
    "len(df)"
   ]
  },
  {
   "cell_type": "markdown",
   "id": "907f460a",
   "metadata": {},
   "source": [
    "____\n"
   ]
  },
  {
   "cell_type": "markdown",
   "id": "10a7514d",
   "metadata": {},
   "source": [
    "____"
   ]
  },
  {
   "cell_type": "markdown",
   "id": "32263ada",
   "metadata": {},
   "source": [
    "___"
   ]
  },
  {
   "cell_type": "code",
   "execution_count": null,
   "id": "6d60ff7e",
   "metadata": {},
   "outputs": [],
   "source": [
    "# strategy/ta.py\n",
    "import sys\n",
    "import os\n",
    "#sys.path.append(os.path.dirname(os.path.abspath(__file__)))\n",
    "\n",
    "import duckdb\n",
    "import pandas as pd\n",
    "import pandas_ta as ta\n",
    "from datetime import datetime, timedelta\n",
    "\n",
    "DB_PATH = filename  \n",
    "\n",
    "def load_recent_candles(hours=200):\n",
    "    con = duckdb.connect(DB_PATH)\n",
    "    query = f\"\"\"\n",
    "            SELECT * \n",
    "            FROM candles\n",
    "            --WHERE timestamp >= NOW() - INTERVAL {hours} HOUR\n",
    "            ORDER BY timestamp ASC\n",
    "            \"\"\"\n",
    "    df = con.execute(query).fetchdf()\n",
    "    con.close()\n",
    "    return df\n",
    "\n",
    "\n",
    "def compute_indicators(df):\n",
    "    df.set_index('timestamp', inplace=True)\n",
    "\n",
    "    # Add 3 basic indicators\n",
    "    df['rsi'] = ta.rsi(df['close'], length=14)\n",
    "    df['ema_50'] = ta.ema(df['close'], length=50)\n",
    "    df['ema_200'] = ta.ema(df['close'], length=200)\n",
    "\n",
    "    return df\n",
    "\n",
    "def generate_signal(df):\n",
    "    latest = df.iloc[-1]\n",
    "\n",
    "    signal = \"hold\"\n",
    "    reason = \"\"\n",
    "\n",
    "    # Strategy logic\n",
    "    if latest['ema_50'] > latest['ema_200'] and latest['rsi'] < 30:\n",
    "        signal = \"buy\"\n",
    "        reason = \"Golden cross + RSI oversold\"\n",
    "    elif latest['ema_50'] < latest['ema_200'] and latest['rsi'] > 70:\n",
    "        signal = \"sell\"\n",
    "        reason = \"Death cross + RSI overbought\"\n",
    "\n",
    "    return signal, reason\n",
    "\n",
    "def get_ta_signal():\n",
    "    df = load_recent_candles()\n",
    "    df = compute_indicators(df)\n",
    "    signal, reason = generate_signal(df)\n",
    "    print(f\"TA Signal: {signal.upper()} | Reason: {reason}\")\n",
    "    return signal, reason\n"
   ]
  },
  {
   "cell_type": "code",
   "execution_count": null,
   "id": "292aaa95",
   "metadata": {},
   "outputs": [],
   "source": [
    "load_recent_candles()"
   ]
  },
  {
   "cell_type": "code",
   "execution_count": null,
   "id": "9b236b14",
   "metadata": {},
   "outputs": [],
   "source": [
    "# Define the checkmark symbol using Unicode\n",
    "checkmark = \"\\u2705\"\n",
    "\n",
    "# Display it to simulate a live conversion/output in a Python environment\n",
    "checkmark\n"
   ]
  },
  {
   "cell_type": "code",
   "execution_count": null,
   "id": "566b52ee",
   "metadata": {},
   "outputs": [],
   "source": []
  },
  {
   "cell_type": "code",
   "execution_count": null,
   "id": "91e4ac16",
   "metadata": {},
   "outputs": [],
   "source": []
  }
 ],
 "metadata": {
  "kernelspec": {
   "display_name": "Python 3",
   "language": "python",
   "name": "python3"
  },
  "language_info": {
   "codemirror_mode": {
    "name": "ipython",
    "version": 3
   },
   "file_extension": ".py",
   "mimetype": "text/x-python",
   "name": "python",
   "nbconvert_exporter": "python",
   "pygments_lexer": "ipython3",
   "version": "3.12.3"
  }
 },
 "nbformat": 4,
 "nbformat_minor": 5
}
